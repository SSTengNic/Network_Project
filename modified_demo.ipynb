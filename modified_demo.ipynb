{
 "cells": [
  {
   "cell_type": "code",
   "execution_count": 15,
   "metadata": {},
   "outputs": [],
   "source": [
    "# Matplotlib\n",
    "import matplotlib.pyplot as plt\n",
    "# Numpy\n",
    "import numpy as np\n",
    "# Torch\n",
    "import torch\n",
    "from torch.utils.data import TensorDataset, DataLoader\n",
    "import torch.nn as nn\n",
    "\n",
    "import os\n",
    "import pandas as pd\n",
    "\n",
    "\n",
    "\n"
   ]
  },
  {
   "cell_type": "code",
   "execution_count": 23,
   "metadata": {},
   "outputs": [
    {
     "name": "stdout",
     "output_type": "stream",
     "text": [
      "colunms without any variation:  ['wscale', 'mss', 'pmtu', 'rcvmss', 'advmss', 'rcv_space', 'rcv_ssthresh', 'ssthresh']\n",
      "Data tensor: (3585, 15, 12)\n",
      "Loss Ratio tensor: (3585,)\n"
     ]
    }
   ],
   "source": [
    "# Load dataset manually using NumPy\n",
    "file_path = \"reno1.log.csv\"  # Update with actual file path\n",
    "# Load the dataset using numpy (semicolon separated)\n",
    "df = pd.read_csv(file_path, delimiter=\";\")  # skip_header=1 if there’s a header row\n",
    "\n",
    "# remove last column, some kind of spacing i\n",
    "# Drop the last column using pandas\n",
    "df = df.iloc[:, :-1]  # Select all rows, and all columns except the last one\n",
    "\n",
    "df['loss_ratio'] = df['bytes_retrans'] / df['bytes_sent']\n",
    "# Identify constant columns\n",
    "constant_columns = [col for col in df.columns if len(df[col].unique()) == 1]\n",
    "\n",
    "constant_columns.append(\"ssthresh\")\n",
    "print(\"colunms without any variation: \", constant_columns)\n",
    "# Drop constant columns from the dataset\n",
    "df = df.drop(columns=constant_columns)\n",
    "\n",
    "seq_length = 15\n",
    "\n",
    "#Function to create sequences\\n\",\n",
    "def create_sequences(input, labels, seq_length):\n",
    "    xs, ys = [], [],\n",
    "    for i in range(len(input) - seq_length):\n",
    "        xs.append(input[i : i + seq_length])  # Input sequence\n",
    "        ys.append(labels[i + seq_length])   # Corresponding target\n",
    "    return np.array(xs), np.array(ys)\n",
    "\n",
    "\n",
    "X, y = create_sequences(df.values, df['loss_ratio'].values, seq_length)\n",
    "\n",
    "trainX = torch.tensor(X,dtype=torch.float32)\n",
    "trainY = torch.tensor(y[:, None], dtype=torch.float32)\n",
    "\n",
    "print(\"Data tensor:\", X.shape)\n",
    "print(\"Loss Ratio tensor:\", y.shape)"
   ]
  },
  {
   "cell_type": "code",
   "execution_count": 17,
   "metadata": {},
   "outputs": [
    {
     "name": "stdout",
     "output_type": "stream",
     "text": [
      "cpu\n"
     ]
    }
   ],
   "source": [
    "# Use GPU if available, else use CPU\n",
    "device = torch.device(\"cuda\" if torch.cuda.is_available() else \"cpu\")\n",
    "print(device)"
   ]
  },
  {
   "cell_type": "code",
   "execution_count": 19,
   "metadata": {},
   "outputs": [],
   "source": [
    "class LSTM_pt(torch.nn.Module):\n",
    "    def __init__(self, input_size, hidden_size, num_layers, output_size):\n",
    "        super(LSTM_pt, self).__init__()\n",
    "        self.input_size = input_size\n",
    "        self.hidden_size = hidden_size\n",
    "        self.output_size = output_size\n",
    "        self.num_layers = num_layers\n",
    "        \n",
    "        # LSTM cell\n",
    "        self.lstm = torch.nn.LSTM(input_size, hidden_size, num_layers = self.num_layers, batch_first = True)\n",
    "        \n",
    "        # Linear layer for final prediction\n",
    "        self.linear = torch.nn.Linear(hidden_size, output_size)\n",
    "\n",
    "    def forward(self, inputs, cell_state=None, hidden_state=None):\n",
    "        # Forward pass through the LSTM cell\n",
    "        if hidden_state is None or cell_state is None:\n",
    "            hidden_state = torch.zeros(1, inputs.size(0), 20).to(device)\n",
    "            cell_state = torch.zeros(1, inputs.size(0), 20).to(device)\n",
    "        hidden = (cell_state, hidden_state)\n",
    "        output, new_memory = self.lstm(inputs, hidden)\n",
    "        cell_state, hidden_state = new_memory\n",
    "        output = self.linear(output[:, -1, :])  # Take only the last time step\n",
    "        return output, cell_state, hidden_state, # Return correct order"
   ]
  },
  {
   "cell_type": "code",
   "execution_count": 20,
   "metadata": {},
   "outputs": [],
   "source": [
    "input_size = 12\n",
    "hidden_size = 20\n",
    "num_layers = 1 # Can be changed to stack multiple LSTM layers!\n",
    "output_size = 1\n",
    "\n",
    "model = LSTM_pt(input_size, hidden_size, num_layers, output_size).to(device)\n",
    "criterion = nn.MSELoss()\n",
    "optimizer = torch.optim.Adam(model.parameters(), lr=0.001)\n"
   ]
  },
  {
   "cell_type": "code",
   "execution_count": null,
   "metadata": {},
   "outputs": [],
   "source": [
    "# np.random.seed(0)\n",
    "# torch.manual_seed(0)\n",
    "\n",
    "# t = np.linspace(0, 100, 1000)\n",
    "# data = np.sin(t)\n",
    "\n",
    "# def create_sequences(data, seq_length):\n",
    "#     xs = []\n",
    "#     ys = []\n",
    "#     for i in range(len(data)-seq_length):\n",
    "#         x = data[i:(i+seq_length)]\n",
    "#         y = data[i+seq_length]\n",
    "#         xs.append(x)\n",
    "#         ys.append(y)\n",
    "#     return np.array(xs), np.array(ys)\n",
    "\n",
    "# seq_length = 10\n",
    "# X, y = create_sequences(data, seq_length)\n",
    "\n",
    "# trainX = torch.tensor(X[:, :, None], dtype=torch.float32)\n",
    "# trainY = torch.tensor(y[:, None], dtype=torch.float32)\n",
    "# print(\"trainX shape: \", trainX.shape)\n",
    "# print(\"trainY shape: \", trainY.shape)"
   ]
  },
  {
   "cell_type": "code",
   "execution_count": 21,
   "metadata": {},
   "outputs": [
    {
     "name": "stdout",
     "output_type": "stream",
     "text": [
      "Epoch [10/100], Loss: nan\n",
      "Epoch [20/100], Loss: nan\n",
      "Epoch [30/100], Loss: nan\n",
      "Epoch [40/100], Loss: nan\n",
      "Epoch [50/100], Loss: nan\n",
      "Epoch [60/100], Loss: nan\n",
      "Epoch [70/100], Loss: nan\n",
      "Epoch [80/100], Loss: nan\n",
      "Epoch [90/100], Loss: nan\n",
      "Epoch [100/100], Loss: nan\n"
     ]
    }
   ],
   "source": [
    "num_epochs = 100\n",
    "h0, c0 = None, None\n",
    "\n",
    "for epoch in range(num_epochs):\n",
    "    model.train()\n",
    "    optimizer.zero_grad()\n",
    "\n",
    "    outputs, h0, c0 = model(trainX, h0, c0)\n",
    "\n",
    "    loss = criterion(outputs, trainY)\n",
    "\n",
    "    loss.backward()\n",
    "    optimizer.step()\n",
    "\n",
    "    h0 = h0.detach()\n",
    "    c0 = c0.detach()\n",
    "\n",
    "    if (epoch+1) % 10 == 0:\n",
    "        print(f'Epoch [{epoch+1}/{num_epochs}], Loss: {loss.item():.4f}')"
   ]
  }
 ],
 "metadata": {
  "kernelspec": {
   "display_name": "Python 3",
   "language": "python",
   "name": "python3"
  },
  "language_info": {
   "codemirror_mode": {
    "name": "ipython",
    "version": 3
   },
   "file_extension": ".py",
   "mimetype": "text/x-python",
   "name": "python",
   "nbconvert_exporter": "python",
   "pygments_lexer": "ipython3",
   "version": "3.10.1"
  }
 },
 "nbformat": 4,
 "nbformat_minor": 2
}
