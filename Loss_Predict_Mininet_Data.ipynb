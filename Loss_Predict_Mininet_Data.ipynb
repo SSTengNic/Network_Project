{
 "cells": [
  {
   "cell_type": "markdown",
   "metadata": {},
   "source": [
    "This project will take in a dataset and then predict the loss of the other "
   ]
  },
  {
   "cell_type": "markdown",
   "metadata": {},
   "source": [
    "### Imports and CUDA"
   ]
  },
  {
   "cell_type": "code",
   "execution_count": 22,
   "metadata": {},
   "outputs": [],
   "source": [
    "# Matplotlib\n",
    "import matplotlib.pyplot as plt\n",
    "# Numpy\n",
    "import numpy as np\n",
    "# Torch\n",
    "import torch\n",
    "from torch.utils.data import TensorDataset, DataLoader\n",
    "import torch.nn as nn\n",
    "\n",
    "import os\n",
    "import pandas as pd\n",
    "import matplotlib.pyplot as plt"
   ]
  },
  {
   "cell_type": "code",
   "execution_count": 23,
   "metadata": {},
   "outputs": [
    {
     "name": "stdout",
     "output_type": "stream",
     "text": [
      "cpu\n"
     ]
    }
   ],
   "source": [
    "# Use GPU if available, else use CPU\n",
    "device = torch.device(\"cuda\" if torch.cuda.is_available() else \"cpu\")\n",
    "print(device)"
   ]
  },
  {
   "cell_type": "markdown",
   "metadata": {},
   "source": [
    "Loss Ratio is predicted as \n",
    "\n",
    "Loss Ratio=bytes_sent/bytes_retrans​"
   ]
  },
  {
   "cell_type": "markdown",
   "metadata": {},
   "source": [
    "### Merging all the reno files"
   ]
  },
  {
   "cell_type": "code",
   "execution_count": 24,
   "metadata": {},
   "outputs": [],
   "source": [
    "# folder_path = \"reno\"\n",
    "\n",
    "# # Get a list of all CSV files in the folder\n",
    "# csv_files = [f for f in os.listdir(folder_path) if f.endswith(\".csv\")]\n",
    "\n",
    "# # Read and merge all CSV files\n",
    "# df_list = [pd.read_csv(os.path.join(folder_path, file)) for file in csv_files]\n",
    "\n",
    "# # Concatenate all DataFrames\n",
    "# merged_df = pd.concat(df_list, ignore_index=True)\n",
    "\n",
    "# # Save the merged DataFrame to a new CSV file\n",
    "# merged_df.to_csv(os.path.join(folder_path, \"merged_reno.csv\"), index=False)\n",
    "\n",
    "# print(\"Merging complete. File saved as 'merged_output.csv'.\")\n",
    "# print(\"merged_reno.csv size: \", merged_df.shape)\n",
    "\n",
    "# #And then move the file into the root directory"
   ]
  },
  {
   "cell_type": "markdown",
   "metadata": {},
   "source": [
    "### Preparing the data\n",
    "\n",
    "I need to normalize the data first, and the continue from there."
   ]
  },
  {
   "cell_type": "code",
   "execution_count": 25,
   "metadata": {},
   "outputs": [
    {
     "name": "stdout",
     "output_type": "stream",
     "text": [
      "colunms without any variation:  ['wscale', 'mss', 'pmtu', 'rcvmss', 'advmss', 'delivered', 'rcv_space', 'rcv_ssthresh', 'bytes_retrans', 'bytes_sent']\n",
      "rto              1.000000\n",
      "rtt              1.000000\n",
      "cwnd             0.181818\n",
      "ssthresh         1.000000\n",
      "bytes_acked      0.000000\n",
      "segs_out         0.000000\n",
      "segs_in          0.000000\n",
      "data_segs_out    0.000000\n",
      "lastrcv          0.000000\n",
      "loss_ratio       1.000000\n",
      "tcp_type         1.000000\n",
      "timestamp        0.000000\n",
      "Name: 0, dtype: float64\n",
      "rto              0.000000\n",
      "rtt              0.002542\n",
      "cwnd             0.318182\n",
      "ssthresh         0.000237\n",
      "bytes_acked      0.051724\n",
      "segs_out         0.051780\n",
      "segs_in          0.052257\n",
      "data_segs_out    0.051779\n",
      "lastrcv          0.052789\n",
      "loss_ratio       0.009229\n",
      "tcp_type         0.000000\n",
      "timestamp        0.053305\n",
      "Name: 50, dtype: float64\n",
      "(939, 12)\n"
     ]
    }
   ],
   "source": [
    "\n",
    "# Load dataset manually using NumPy\n",
    "file_path = \"./src/data/multi_tcp_20250411064307.csv\"  # Update with actual file path\n",
    "# Load the dataset using numpy (semicolon separated)\n",
    "df = pd.read_csv(file_path, delimiter=\";\")  # skip_header=1 if there’s a header row\n",
    "\n",
    "# remove last column, some kind of spacing i\n",
    "# Drop the last column using pandas\n",
    "\n",
    "# Convert \"reno\" -> 1 and \"cubic\" -> 0 in a new numeric column\n",
    "df['tcp_type'] = df['tcp_type'].map({'reno': 1, 'cubic': 0})\n",
    "\n",
    "# df['loss_ratio'] = (df['bytes_retrans'] / df['bytes_sent'])\n",
    "\n",
    "# Identify constant columns\n",
    "constant_columns = [col for col in df.columns if len(df[col].unique()) == 1]\n",
    "\n",
    "constant_columns.append(\"bytes_retrans\")\n",
    "constant_columns.append(\"bytes_sent\")\n",
    "\n",
    "print(\"colunms without any variation: \", constant_columns)\n",
    "# Drop constant columns from the dataset\n",
    "df = df.drop(columns=constant_columns)\n",
    "\n",
    "# Normalize using Min-Max scaling: (X - min) / (max - min)\n",
    "data_min = df.min(axis=0)\n",
    "data_max = df.max(axis=0)\n",
    "df_normalized = (df - data_min) / (data_max - data_min)\n",
    "\n",
    "# Now df_normalized is your dataset without the constant columns and normalized\n",
    "print(df_normalized.iloc[0])\n",
    "\n",
    "print(df_normalized.iloc[50])\n",
    "\n",
    "\n",
    "df_normalized.to_csv(\"normalized.csv\", index=False)  # Set index=False to exclude row numbers\n",
    "# loss_ratio_tensor = torch.tensor(df['loss_ratio'].values, dtype=torch.float32)\n",
    "# Convert to PyTorch tensor\n",
    "#Changed df_normalized back to df first.\n",
    "print(df_normalized.shape)"
   ]
  },
  {
   "cell_type": "code",
   "execution_count": 26,
   "metadata": {},
   "outputs": [],
   "source": [
    "# df.to_csv(\"output.csv\", index=False)  # Set index=False to exclude row numbers"
   ]
  },
  {
   "cell_type": "code",
   "execution_count": 27,
   "metadata": {},
   "outputs": [
    {
     "name": "stdout",
     "output_type": "stream",
     "text": [
      "Data tensor: torch.Size([910, 15, 12])\n",
      "Loss tensor: torch.Size([910, 15, 1])\n"
     ]
    }
   ],
   "source": [
    "#As stated in the paper\n",
    "seq_length = 15\n",
    "forecast_steps = 15  # Predict the next 15 seconds\n",
    "\n",
    "\n",
    "def create_sequences(input, labels, seq_length, forecast_steps):\n",
    "    xs, ys = [], []\n",
    "    for i in range(len(input) - seq_length - forecast_steps + 1):\n",
    "        xs.append(input[i : i + seq_length])  # Input sequence\n",
    "        ys.append(labels[i + seq_length : i + seq_length + forecast_steps])  # Next `forecast_steps` values\n",
    "    return np.array(xs), np.array(ys)\n",
    "\n",
    "\n",
    "X, y = create_sequences(df_normalized.values, df_normalized['loss_ratio'].values, seq_length, forecast_steps)\n",
    "data_tensor = torch.tensor(df.values, dtype=torch.float32)\n",
    "new_X = torch.tensor(X,dtype=torch.float32)\n",
    "new_y = torch.tensor(y[:,:, None], dtype=torch.float32)\n",
    "print(\"Data tensor:\", new_X.shape)\n",
    "print(\"Loss tensor:\", new_y.shape)"
   ]
  },
  {
   "cell_type": "markdown",
   "metadata": {},
   "source": [
    "### Splitting the data, 80/10/10"
   ]
  },
  {
   "cell_type": "code",
   "execution_count": 35,
   "metadata": {},
   "outputs": [
    {
     "name": "stdout",
     "output_type": "stream",
     "text": [
      "torch.Size([728, 15, 12]) torch.Size([182, 15, 12])\n",
      "torch.Size([728, 15, 1]) torch.Size([182, 15, 1])\n",
      "Inputs: torch.Size([16, 15, 12]), Targets: torch.Size([16, 15, 1])\n"
     ]
    }
   ],
   "source": [
    "train_size = int(len(new_X) *0.8)\n",
    "#I remove the first batch because it is just full of zeros,\n",
    "X_train, X_test = new_X[:train_size], new_X[train_size:]\n",
    "y_train, y_test = new_y[:train_size], new_y[train_size:]\n",
    "\n",
    "# Print the shapes to verify the split\n",
    "print(X_train.shape, X_test.shape)\n",
    "print(y_train.shape, y_test.shape)\n",
    "\n",
    "train_dataset = TensorDataset(X_train, y_train)\n",
    "test_dataset = TensorDataset(X_test, y_test)\n",
    "\n",
    "batch_size = 16  # You can adjust the batch size as needed\n",
    "train_loader = DataLoader(train_dataset, batch_size=batch_size, shuffle=False)\n",
    "test_loader = DataLoader(test_dataset, batch_size=batch_size, shuffle=False, drop_last=True)\n",
    "\n",
    "# Example of accessing a batch of data\n",
    "for inputs, targets in train_loader:\n",
    "    print(f'Inputs: {inputs.shape}, Targets: {targets.shape}')\n",
    "    \n",
    "    break  # Only print the first batch for verification\n"
   ]
  },
  {
   "cell_type": "markdown",
   "metadata": {},
   "source": [
    "###LSTM Model used as the NN."
   ]
  },
  {
   "cell_type": "code",
   "execution_count": 36,
   "metadata": {},
   "outputs": [],
   "source": [
    "class LSTM_pt(torch.nn.Module):\n",
    "    def __init__(self, input_size, hidden_size, num_layers, output_size):\n",
    "        super(LSTM_pt, self).__init__()\n",
    "        self.input_size = input_size\n",
    "        self.hidden_size = hidden_size\n",
    "        self.output_size = output_size\n",
    "        self.num_layers = num_layers\n",
    "        \n",
    "        # LSTM cell\n",
    "        self.lstm = torch.nn.LSTM(input_size, hidden_size, num_layers = self.num_layers, batch_first = True)\n",
    "        \n",
    "        # Linear layer for final prediction\n",
    "        self.linear = torch.nn.Linear(hidden_size, output_size)\n",
    "\n",
    "    def forward(self, inputs, cell_state=None, hidden_state=None):\n",
    "        # Forward pass through the LSTM cell\n",
    "        if hidden_state is None or cell_state is None:\n",
    "            hidden_state = torch.zeros(self.num_layers, inputs.size(0), self.hidden_size).to(device)\n",
    "            cell_state = torch.zeros(self.num_layers, inputs.size(0), self.hidden_size).to(device)\n",
    "        hidden = (cell_state, hidden_state)\n",
    "        output, new_memory = self.lstm(inputs, hidden)\n",
    "        cell_state, hidden_state = new_memory\n",
    "        output = self.linear(output)  # Linear layer on all time steps\n",
    "        return output, cell_state, hidden_state, # Return correct order"
   ]
  },
  {
   "cell_type": "markdown",
   "metadata": {},
   "source": [
    "### I will implement sliding window next time, but for now, it will only predict the next value."
   ]
  },
  {
   "cell_type": "code",
   "execution_count": 37,
   "metadata": {},
   "outputs": [],
   "source": [
    "def train(model, dataloader, num_epochs, learning_rate):\n",
    "    # Set the loss function and optimizer\n",
    "    criterion = torch.nn.MSELoss()\n",
    "    optimizer = torch.optim.Adam(model.parameters(), lr=learning_rate)\n",
    "    model.train()  # Set the model to training mode\n",
    "    loss_values = []\n",
    "\n",
    "    for epoch in range(num_epochs):\n",
    "        total_loss = 0  # Track total loss for averaging\n",
    "        hidden_state, cell_state = None, None  # Reset hidden states for each epoch\n",
    "\n",
    "        for batch_idx, (inputs, targets) in enumerate(dataloader):\n",
    "            if batch_idx == len(dataloader) - 1:  \n",
    "                break  # Skip the last batch\n",
    "\n",
    "            # Reset gradients\n",
    "            optimizer.zero_grad()\n",
    "\n",
    "            # Forward pass\n",
    "            output, cell_state, hidden_state = model(inputs, cell_state, hidden_state)\n",
    "\n",
    "            # Compute loss\n",
    "            loss = criterion(output, targets)\n",
    "            total_loss += loss.item()  # Sum up the loss for averaging\n",
    "\n",
    "            # Backpropagation\n",
    "            loss.backward()\n",
    "            optimizer.step()\n",
    "\n",
    "            # Detach hidden states to prevent memory buildup\n",
    "            hidden_state = hidden_state.detach()\n",
    "            cell_state = cell_state.detach()\n",
    "\n",
    "            # # Print some sample outputs periodically\n",
    "            # if epoch % 50 == 0 and batch_idx % 50 == 0:\n",
    "            #     print(\"Output Sample: \", output[1:5])\n",
    "\n",
    "        # Print average loss for the epoch\n",
    "        avg_loss = total_loss / len(dataloader)\n",
    "        loss_values.append(avg_loss)\n",
    "        if epoch % 100 == 0:\n",
    "            print(f'Epoch {epoch+1}/{num_epochs}, Loss: {avg_loss:.6f}')\n",
    "    \n",
    "    plt.plot(range(num_epochs), loss_values, label='Loss')\n",
    "    plt.xlabel('Epoch')\n",
    "    plt.ylabel('Loss')\n",
    "    plt.title('Loss Over Epochs')\n",
    "    plt.legend()\n",
    "    plt.show()\n"
   ]
  },
  {
   "cell_type": "code",
   "execution_count": 38,
   "metadata": {},
   "outputs": [
    {
     "name": "stdout",
     "output_type": "stream",
     "text": [
      "Epoch 1/200, Loss: 0.022005\n",
      "Epoch 101/200, Loss: 0.000014\n"
     ]
    },
    {
     "data": {
      "image/png": "[encoded data removed]",
      "text/plain": [
       "<Figure size 640x480 with 1 Axes>"
      ]
     },
     "metadata": {},
     "output_type": "display_data"
    }
   ],
   "source": [
    "# Define the model parameters\n",
    "# Following the research paper's instructions\n",
    "input_size = 12\n",
    "hidden_size = 20\n",
    "num_layers = 1 # Can be changed to stack multiple LSTM layers!\n",
    "output_size = 1\n",
    "dataloader = train_loader\n",
    "\n",
    "#Create the model\n",
    "model = LSTM_pt(input_size, hidden_size, num_layers, output_size).to(device)\n",
    "train(model, dataloader, num_epochs = 200, learning_rate = 0.001)\n"
   ]
  },
  {
   "cell_type": "markdown",
   "metadata": {},
   "source": [
    "### Testing the model"
   ]
  },
  {
   "cell_type": "code",
   "execution_count": 39,
   "metadata": {},
   "outputs": [
    {
     "name": "stdout",
     "output_type": "stream",
     "text": [
      "Batch 0: Inputs Shape: torch.Size([16, 15, 12]), Targets Shape: torch.Size([16, 15, 1])\n",
      "Batch 1: Inputs Shape: torch.Size([16, 15, 12]), Targets Shape: torch.Size([16, 15, 1])\n",
      "Batch 2: Inputs Shape: torch.Size([16, 15, 12]), Targets Shape: torch.Size([16, 15, 1])\n",
      "Batch 3: Inputs Shape: torch.Size([16, 15, 12]), Targets Shape: torch.Size([16, 15, 1])\n",
      "Batch 4: Inputs Shape: torch.Size([16, 15, 12]), Targets Shape: torch.Size([16, 15, 1])\n",
      "Batch 5: Inputs Shape: torch.Size([16, 15, 12]), Targets Shape: torch.Size([16, 15, 1])\n",
      "Batch 6: Inputs Shape: torch.Size([16, 15, 12]), Targets Shape: torch.Size([16, 15, 1])\n",
      "Batch 7: Inputs Shape: torch.Size([16, 15, 12]), Targets Shape: torch.Size([16, 15, 1])\n",
      "Batch 8: Inputs Shape: torch.Size([16, 15, 12]), Targets Shape: torch.Size([16, 15, 1])\n",
      "Batch 9: Inputs Shape: torch.Size([16, 15, 12]), Targets Shape: torch.Size([16, 15, 1])\n",
      "Batch 10: Inputs Shape: torch.Size([16, 15, 12]), Targets Shape: torch.Size([16, 15, 1])\n",
      "Total test batches: 11\n"
     ]
    }
   ],
   "source": [
    "for batch_idx, (inputs, targets) in enumerate(test_loader):\n",
    "    print(f\"Batch {batch_idx}: Inputs Shape: {inputs.shape}, Targets Shape: {targets.shape}\")\n",
    "\n",
    "print(\"Total test batches:\", len(test_loader))\n"
   ]
  },
  {
   "cell_type": "code",
   "execution_count": 40,
   "metadata": {},
   "outputs": [
    {
     "name": "stdout",
     "output_type": "stream",
     "text": [
      "Predicted output:  tensor([[8.6217e-06],\n",
      "        [7.5603e-06],\n",
      "        [7.1618e-06],\n",
      "        [6.9903e-06],\n",
      "        [6.9336e-06],\n",
      "        [6.9226e-06],\n",
      "        [6.8983e-06],\n",
      "        [6.8861e-06],\n",
      "        [6.8695e-06],\n",
      "        [6.9160e-06],\n",
      "        [6.8836e-06],\n",
      "        [6.8837e-06],\n",
      "        [6.8870e-06],\n",
      "        [6.8945e-06],\n",
      "        [6.8878e-06]])\n",
      "True Output hello:  tensor([[6.8696e-06],\n",
      "        [6.8735e-06],\n",
      "        [6.8726e-06],\n",
      "        [6.8689e-06],\n",
      "        [6.8719e-06],\n",
      "        [6.8673e-06],\n",
      "        [6.8636e-06],\n",
      "        [6.8596e-06],\n",
      "        [6.8628e-06],\n",
      "        [6.8621e-06],\n",
      "        [6.8616e-06],\n",
      "        [6.8604e-06],\n",
      "        [6.8583e-06],\n",
      "        [6.8496e-06],\n",
      "        [6.8538e-06]])\n",
      "Predicted output:  tensor([[6.9988e-06],\n",
      "        [6.9946e-06],\n",
      "        [6.9925e-06],\n",
      "        [6.9902e-06],\n",
      "        [6.9926e-06],\n",
      "        [6.9559e-06],\n",
      "        [6.9865e-06],\n",
      "        [6.9891e-06],\n",
      "        [6.9931e-06],\n",
      "        [7.0154e-06],\n",
      "        [7.0068e-06],\n",
      "        [6.9944e-06],\n",
      "        [6.9976e-06],\n",
      "        [6.9887e-06],\n",
      "        [6.9896e-06]])\n",
      "True Output hello:  tensor([[6.8860e-06],\n",
      "        [6.8858e-06],\n",
      "        [6.8906e-06],\n",
      "        [6.8818e-06],\n",
      "        [6.8830e-06],\n",
      "        [6.8777e-06],\n",
      "        [6.8806e-06],\n",
      "        [6.8733e-06],\n",
      "        [6.8740e-06],\n",
      "        [6.8765e-06],\n",
      "        [6.8744e-06],\n",
      "        [6.8788e-06],\n",
      "        [6.8781e-06],\n",
      "        [6.8778e-06],\n",
      "        [6.8807e-06]])\n",
      "Predicted output:  tensor([[7.1063e-06],\n",
      "        [7.1210e-06],\n",
      "        [7.1780e-06],\n",
      "        [7.1255e-06],\n",
      "        [7.1177e-06],\n",
      "        [7.1219e-06],\n",
      "        [7.1362e-06],\n",
      "        [7.1325e-06],\n",
      "        [7.1381e-06],\n",
      "        [7.1328e-06],\n",
      "        [7.1294e-06],\n",
      "        [7.1483e-06],\n",
      "        [7.1445e-06],\n",
      "        [7.1582e-06],\n",
      "        [7.1458e-06]])\n",
      "True Output hello:  tensor([[6.9180e-06],\n",
      "        [6.9173e-06],\n",
      "        [6.9149e-06],\n",
      "        [6.9194e-06],\n",
      "        [6.9247e-06],\n",
      "        [6.9252e-06],\n",
      "        [6.9210e-06],\n",
      "        [6.9212e-06],\n",
      "        [6.9246e-06],\n",
      "        [6.9248e-06],\n",
      "        [6.9279e-06],\n",
      "        [6.9283e-06],\n",
      "        [6.9286e-06],\n",
      "        [6.9287e-06],\n",
      "        [6.9265e-06]])\n",
      "Average Validation Loss: 0.0000107880\n"
     ]
    },
    {
     "data": {
      "image/png": "[encoded data removed]",
      "text/plain": [
       "<Figure size 640x480 with 1 Axes>"
      ]
     },
     "metadata": {},
     "output_type": "display_data"
    }
   ],
   "source": [
    "\n",
    "model.eval()\n",
    "\n",
    "# Initialize variables to track loss\n",
    "total_val_loss = 0\n",
    "num_batches = 0\n",
    "total_lost_values = []\n",
    "\n",
    "# Define the loss function\n",
    "criterion = torch.nn.MSELoss()\n",
    "\n",
    "# Initialize hidden state and cell state\n",
    "hidden_state, cell_state = None, None  \n",
    "\n",
    "# Disable gradient computation for validation\n",
    "with torch.no_grad():\n",
    "    for batch_idx, (inputs, targets) in enumerate(test_loader):\n",
    "\n",
    "        # Initialize hidden state and cell state for each batch\n",
    "        if hidden_state is not None:\n",
    "            hidden_state = hidden_state.detach()\n",
    "        if cell_state is not None:\n",
    "            cell_state = cell_state.detach()\n",
    "\n",
    "        # Forward pass\n",
    "        output, cell_state, hidden_state = model(inputs, cell_state, hidden_state)\n",
    "\n",
    "        output_denorm = output *(data_max[\"loss_ratio\"] - data_min[\"loss_ratio\"]) + data_min[\"loss_ratio\"]\n",
    "        target_denorm = targets *(data_max[\"loss_ratio\"] - data_min[\"loss_ratio\"]) + data_min[\"loss_ratio\"]\n",
    "\n",
    "        if batch_idx % 5 == 0:\n",
    "            print(\"Predicted output: \", output_denorm[0])\n",
    "            print(\"True Output hello: \", target_denorm[0])\n",
    "\n",
    "        # Compute loss for this batch\n",
    "        loss = criterion(output, targets)\n",
    "        \n",
    "        # Accumulate loss\n",
    "        total_val_loss += loss.item()  # Add the batch loss to total\n",
    "        total_lost_values.append(total_val_loss / (batch_idx + 1))  # Average loss so far\n",
    "    \n",
    "        num_batches += 1\n",
    "\n",
    "# Compute average loss for the entire validation set\n",
    "avg_loss = total_val_loss / num_batches\n",
    "\n",
    "# Print validation results\n",
    "print(f'Average Validation Loss: {avg_loss:.10f}')\n",
    "\n",
    "# Plot the loss curve\n",
    "plt.plot(range(num_batches), total_lost_values, label='Loss')\n",
    "plt.xlabel('Batch')\n",
    "plt.ylabel('Loss')\n",
    "plt.title('Loss Over Batches (Validation)')\n",
    "plt.legend()\n",
    "plt.show()\n"
   ]
  },
  {
   "cell_type": "code",
   "execution_count": 34,
   "metadata": {},
   "outputs": [
    {
     "name": "stdout",
     "output_type": "stream",
     "text": [
      "output size torch.Size([8, 15, 1])\n",
      "targets size torch.Size([8, 15, 1])\n"
     ]
    }
   ],
   "source": [
    "print(\"output size\", output.shape)\n",
    "print(\"targets size\", targets.shape)"
   ]
  },
  {
   "cell_type": "code",
   "execution_count": null,
   "metadata": {},
   "outputs": [],
   "source": [
    "# # Example raw input: [seq_len, num_features] (unnormalized)\n",
    "# #To be used for algo\n",
    "# raw_input = np.array([\n",
    "#     [100, 0.5, 0.1],  # time step 1\n",
    "#     [110, 0.6, 0.2],  # time step 2\n",
    "#     [120, 0.7, 0.3],  # time step 3\n",
    "# ], dtype=np.float32)\n",
    "\n",
    "# # Normalize using your original Min-Max scalers\n",
    "# normalized_input = (raw_input - data_min.values) / (data_max.values - data_min.values)\n",
    "# normalized_input = torch.tensor(normalized_input, dtype=torch.float32).unsqueeze(0)  # [1, seq_len, num_features]\n",
    "\n",
    "# model.eval()\n",
    "# with torch.no_grad():\n",
    "#     hidden_state, cell_state = None, None\n",
    "#     output, _, _ = model(normalized_input, cell_state, hidden_state)\n",
    "\n",
    "#     # Denormalize the output\n",
    "#     min_val = data_min[\"Taxi Available in Selected Box Area\"]\n",
    "#     max_val = data_max[\"Taxi Available in Selected Box Area\"]\n",
    "#     output_denorm = output * (max_val - min_val) + min_val\n",
    "\n",
    "#     print(\"Normalized model output:\", output)\n",
    "#     print(\"Denormalized prediction:\", output_denorm)"
   ]
  }
 ],
 "metadata": {
  "kernelspec": {
   "display_name": "Python 3",
   "language": "python",
   "name": "python3"
  },
  "language_info": {
   "codemirror_mode": {
    "name": "ipython",
    "version": 3
   },
   "file_extension": ".py",
   "mimetype": "text/x-python",
   "name": "python",
   "nbconvert_exporter": "python",
   "pygments_lexer": "ipython3",
   "version": "3.10.1"
  }
 },
 "nbformat": 4,
 "nbformat_minor": 2
}
