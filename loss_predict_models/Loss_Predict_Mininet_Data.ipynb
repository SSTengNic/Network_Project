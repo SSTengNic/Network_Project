{
 "cells": [
  {
   "cell_type": "markdown",
   "metadata": {},
   "source": [
    "This project will take in a dataset and then predict the loss of the other "
   ]
  },
  {
   "cell_type": "markdown",
   "metadata": {},
   "source": [
    "### Imports and CUDA"
   ]
  },
  {
   "cell_type": "code",
   "execution_count": 1,
   "metadata": {},
   "outputs": [],
   "source": [
    "# Matplotlib\n",
    "import matplotlib.pyplot as plt\n",
    "# Numpy\n",
    "import numpy as np\n",
    "# Torch\n",
    "import torch\n",
    "from torch.utils.data import TensorDataset, DataLoader\n",
    "import torch.nn as nn\n",
    "\n",
    "import os\n",
    "import pandas as pd\n",
    "import matplotlib.pyplot as plt"
   ]
  },
  {
   "cell_type": "code",
   "execution_count": 2,
   "metadata": {},
   "outputs": [
    {
     "name": "stdout",
     "output_type": "stream",
     "text": [
      "cpu\n"
     ]
    }
   ],
   "source": [
    "# Use GPU if available, else use CPU\n",
    "device = torch.device(\"cuda\" if torch.cuda.is_available() else \"cpu\")\n",
    "print(device)"
   ]
  },
  {
   "cell_type": "markdown",
   "metadata": {},
   "source": [
    "Loss Ratio is predicted as \n",
    "\n",
    "Loss Ratio=bytes_sent/bytes_retrans​"
   ]
  },
  {
   "cell_type": "markdown",
   "metadata": {},
   "source": [
    "### Merging all the reno files"
   ]
  },
  {
   "cell_type": "code",
   "execution_count": 3,
   "metadata": {},
   "outputs": [],
   "source": [
    "# folder_path = \"reno\"\n",
    "\n",
    "# # Get a list of all CSV files in the folder\n",
    "# csv_files = [f for f in os.listdir(folder_path) if f.endswith(\".csv\")]\n",
    "\n",
    "# # Read and merge all CSV files\n",
    "# df_list = [pd.read_csv(os.path.join(folder_path, file)) for file in csv_files]\n",
    "\n",
    "# # Concatenate all DataFrames\n",
    "# merged_df = pd.concat(df_list, ignore_index=True)\n",
    "\n",
    "# # Save the merged DataFrame to a new CSV file\n",
    "# merged_df.to_csv(os.path.join(folder_path, \"merged_reno.csv\"), index=False)\n",
    "\n",
    "# print(\"Merging complete. File saved as 'merged_output.csv'.\")\n",
    "# print(\"merged_reno.csv size: \", merged_df.shape)\n",
    "\n",
    "# #And then move the file into the root directory"
   ]
  },
  {
   "cell_type": "markdown",
   "metadata": {},
   "source": [
    "### Preparing the data for RenoCUBIC\n",
    "\n",
    "I need to normalize the data first, and the continue from there."
   ]
  },
  {
   "cell_type": "code",
   "execution_count": 16,
   "metadata": {},
   "outputs": [
    {
     "name": "stdout",
     "output_type": "stream",
     "text": [
      "(106, 1)\n",
      "(106, 16)\n",
      "Index(['wscale', 'rto', 'rtt', 'mss', 'rcvmss', 'advmss', 'cwnd', 'ssthresh',\n",
      "       'bytes_acked', 'segs_out', 'segs_in', 'data_segs_out', 'lastrcv',\n",
      "       'rcv_ssthresh', 'tcp_type', 'timestamp'],\n",
      "      dtype='object')\n"
     ]
    }
   ],
   "source": [
    "import pandas as pd\n",
    "import numpy as np\n",
    "import torch\n",
    "\n",
    "# Load dataset\n",
    "file_path = \"../src/data/switch_tcp.csv\"\n",
    "df = pd.read_csv(file_path, delimiter=\";\")\n",
    "\n",
    "# Convert TCP type to numeric\n",
    "df['tcp_type'] = df['tcp_type'].map({'reno': 1, 'cubic': 0})\n",
    "\n",
    "\n",
    "# Identify constant columns\n",
    "constant_columns = [col for col in df.columns if len(df[col].unique()) == 1]\n",
    "constant_columns += [\"bytes_retrans\", \"bytes_sent\"]  # Optional if you plan to drop them\n",
    "\n",
    "\n",
    "\n",
    "# Drop them\n",
    "df = df.drop(columns=constant_columns)\n",
    "\n",
    "\n",
    "# 🔹 Separate target before normalization\n",
    "target_col = \"loss_ratio\"\n",
    "\n",
    "features = df.drop(columns=[target_col])\n",
    "\n",
    "\n",
    "targets = df[[target_col]]  # Keep as DataFrame to match shape\n",
    "\n",
    "# 🔹 Normalize features and target separately\n",
    "features_min = features.min()\n",
    "features_max = features.max()\n",
    "features_norm = (features - features_min) / (features_max - features_min)\n",
    "\n",
    "target_min = float(df['loss_ratio'].min())\n",
    "target_max = float(df['loss_ratio'].max())\n",
    "targets_norm = (targets - target_min) / (target_max - target_min)\n",
    "\n",
    "print(targets.shape)\n",
    "print(features.shape)\n",
    "print(features_norm.columns)"
   ]
  },
  {
   "cell_type": "code",
   "execution_count": 5,
   "metadata": {},
   "outputs": [
    {
     "name": "stdout",
     "output_type": "stream",
     "text": [
      "Data tensor: torch.Size([77, 15, 16])\n",
      "Loss tensor: torch.Size([77, 15, 1])\n"
     ]
    }
   ],
   "source": [
    "#As stated in the paper\n",
    "seq_length = 15\n",
    "forecast_steps = 15  # Predict the next 15 seconds\n",
    "\n",
    "\n",
    "def create_sequences(input, labels, seq_length, forecast_steps):\n",
    "    xs, ys = [], []\n",
    "    for i in range(len(input) - seq_length - forecast_steps + 1):\n",
    "        xs.append(input[i : i + seq_length])  # Input sequence\n",
    "        ys.append(labels[i + seq_length : i + seq_length + forecast_steps])  # Next `forecast_steps` values\n",
    "    return np.array(xs), np.array(ys)\n",
    "\n",
    "\n",
    "X, y = create_sequences(features_norm.values, targets_norm['loss_ratio'].values, seq_length, forecast_steps)\n",
    "data_tensor = torch.tensor(df.values, dtype=torch.float32)\n",
    "new_X = torch.tensor(X,dtype=torch.float32)\n",
    "new_y = torch.tensor(y[:,:, None], dtype=torch.float32)\n",
    "print(\"Data tensor:\", new_X.shape)\n",
    "print(\"Loss tensor:\", new_y.shape)"
   ]
  },
  {
   "cell_type": "markdown",
   "metadata": {},
   "source": [
    "### Splitting the data, 80/10/10"
   ]
  },
  {
   "cell_type": "code",
   "execution_count": 6,
   "metadata": {},
   "outputs": [
    {
     "name": "stdout",
     "output_type": "stream",
     "text": [
      "torch.Size([61, 15, 16]) torch.Size([16, 15, 16])\n",
      "torch.Size([61, 15, 1]) torch.Size([16, 15, 1])\n",
      "Inputs: torch.Size([16, 15, 16]), Targets: torch.Size([16, 15, 1])\n"
     ]
    }
   ],
   "source": [
    "train_size = int(len(new_X) *0.8)\n",
    "#I remove the first batch because it is just full of zeros,\n",
    "X_train, X_test = new_X[:train_size], new_X[train_size:]\n",
    "y_train, y_test = new_y[:train_size], new_y[train_size:]\n",
    "\n",
    "# Print the shapes to verify the split\n",
    "print(X_train.shape, X_test.shape)\n",
    "print(y_train.shape, y_test.shape)\n",
    "\n",
    "train_dataset = TensorDataset(X_train, y_train)\n",
    "test_dataset = TensorDataset(X_test, y_test)\n",
    "\n",
    "batch_size = 16  # You can adjust the batch size as needed\n",
    "train_loader = DataLoader(train_dataset, batch_size=batch_size, shuffle=False)\n",
    "test_loader = DataLoader(test_dataset, batch_size=batch_size, shuffle=False, drop_last=True)\n",
    "\n",
    "# Example of accessing a batch of data\n",
    "for inputs, targets in train_loader:\n",
    "    print(f'Inputs: {inputs.shape}, Targets: {targets.shape}')\n",
    "    \n",
    "    break  # Only print the first batch for verification\n"
   ]
  },
  {
   "cell_type": "markdown",
   "metadata": {},
   "source": [
    "###LSTM Model used as the NN."
   ]
  },
  {
   "cell_type": "code",
   "execution_count": 7,
   "metadata": {},
   "outputs": [],
   "source": [
    "class LSTM_pt(torch.nn.Module):\n",
    "    def __init__(self, input_size, hidden_size, num_layers, output_size):\n",
    "        super(LSTM_pt, self).__init__()\n",
    "        self.input_size = input_size\n",
    "        self.hidden_size = hidden_size\n",
    "        self.output_size = output_size\n",
    "        self.num_layers = num_layers\n",
    "        \n",
    "        # LSTM cell\n",
    "        self.lstm = torch.nn.LSTM(input_size, hidden_size, num_layers = self.num_layers, batch_first = True)\n",
    "        \n",
    "        # Linear layer for final prediction\n",
    "        self.linear = torch.nn.Linear(hidden_size, output_size)\n",
    "\n",
    "    def forward(self, inputs, cell_state=None, hidden_state=None):\n",
    "        # Forward pass through the LSTM cell\n",
    "        if hidden_state is None or cell_state is None:\n",
    "            hidden_state = torch.zeros(self.num_layers, inputs.size(0), self.hidden_size).to(device)\n",
    "            cell_state = torch.zeros(self.num_layers, inputs.size(0), self.hidden_size).to(device)\n",
    "        hidden = (cell_state, hidden_state)\n",
    "        output, new_memory = self.lstm(inputs, hidden)\n",
    "        cell_state, hidden_state = new_memory\n",
    "        output = self.linear(output)  # Linear layer on all time steps\n",
    "        return output, cell_state, hidden_state, # Return correct order"
   ]
  },
  {
   "cell_type": "markdown",
   "metadata": {},
   "source": [
    "### I will implement sliding window next time, but for now, it will only predict the next value."
   ]
  },
  {
   "cell_type": "code",
   "execution_count": 8,
   "metadata": {},
   "outputs": [],
   "source": [
    "def train(model, dataloader, num_epochs, learning_rate):\n",
    "    # Set the loss function and optimizer\n",
    "    criterion = torch.nn.MSELoss()\n",
    "    optimizer = torch.optim.Adam(model.parameters(), lr=learning_rate)\n",
    "    model.train()  # Set the model to training mode\n",
    "    loss_values = []\n",
    "\n",
    "    for epoch in range(num_epochs):\n",
    "        total_loss = 0  # Track total loss for averaging\n",
    "        hidden_state, cell_state = None, None  # Reset hidden states for each epoch\n",
    "\n",
    "        for batch_idx, (inputs, targets) in enumerate(dataloader):\n",
    "            if batch_idx == len(dataloader) - 1:  \n",
    "                break  # Skip the last batch\n",
    "\n",
    "            # Reset gradients\n",
    "            optimizer.zero_grad()\n",
    "\n",
    "            # Forward pass\n",
    "            output, cell_state, hidden_state = model(inputs, cell_state, hidden_state)\n",
    "\n",
    "            # Compute loss\n",
    "            loss = criterion(output, targets)\n",
    "            total_loss += loss.item()  # Sum up the loss for averaging\n",
    "\n",
    "            # Backpropagation\n",
    "            loss.backward()\n",
    "            optimizer.step()\n",
    "\n",
    "            # Detach hidden states to prevent memory buildup\n",
    "            hidden_state = hidden_state.detach()\n",
    "            cell_state = cell_state.detach()\n",
    "\n",
    "            # # Print some sample outputs periodically\n",
    "            # if epoch % 50 == 0 and batch_idx % 50 == 0:\n",
    "            #     print(\"Output Sample: \", output[1:5])\n",
    "\n",
    "        # Print average loss for the epoch\n",
    "        avg_loss = total_loss / len(dataloader)\n",
    "        loss_values.append(avg_loss)\n",
    "        if epoch % 100 == 0:\n",
    "            print(f'Epoch {epoch+1}/{num_epochs}, Loss: {avg_loss:.6f}')\n",
    "    \n",
    "    plt.plot(range(num_epochs), loss_values, label='Loss')\n",
    "    plt.xlabel('Epoch')\n",
    "    plt.ylabel('Loss')\n",
    "    plt.title('Loss Over Epochs')\n",
    "    plt.legend()\n",
    "    plt.show()\n"
   ]
  },
  {
   "cell_type": "code",
   "execution_count": 9,
   "metadata": {},
   "outputs": [
    {
     "name": "stdout",
     "output_type": "stream",
     "text": [
      "Epoch 1/200, Loss: 0.032994\n",
      "Epoch 101/200, Loss: 0.000175\n"
     ]
    },
    {
     "data": {
      "image/png": "[encoded data removed]",
      "text/plain": [
       "<Figure size 640x480 with 1 Axes>"
      ]
     },
     "metadata": {},
     "output_type": "display_data"
    }
   ],
   "source": [
    "# Define the model parameters\n",
    "# Following the research paper's instructions\n",
    "input_size = 16\n",
    "hidden_size = 20\n",
    "num_layers = 1 # Can be changed to stack multiple LSTM layers!\n",
    "output_size = 1\n",
    "dataloader = train_loader\n",
    "\n",
    "#Create the model\n",
    "model = LSTM_pt(input_size, hidden_size, num_layers, output_size).to(device)\n",
    "train(model, dataloader, num_epochs = 200, learning_rate = 0.001)\n"
   ]
  },
  {
   "cell_type": "markdown",
   "metadata": {},
   "source": [
    "### Testing the model"
   ]
  },
  {
   "cell_type": "code",
   "execution_count": 10,
   "metadata": {},
   "outputs": [
    {
     "name": "stdout",
     "output_type": "stream",
     "text": [
      "Batch 0: Inputs Shape: torch.Size([16, 15, 16]), Targets Shape: torch.Size([16, 15, 1])\n",
      "Total test batches: 1\n"
     ]
    }
   ],
   "source": [
    "for batch_idx, (inputs, targets) in enumerate(test_loader):\n",
    "    print(f\"Batch {batch_idx}: Inputs Shape: {inputs.shape}, Targets Shape: {targets.shape}\")\n",
    "\n",
    "print(\"Total test batches:\", len(test_loader))\n"
   ]
  },
  {
   "cell_type": "code",
   "execution_count": 11,
   "metadata": {},
   "outputs": [
    {
     "name": "stdout",
     "output_type": "stream",
     "text": [
      "Predicted output (denorm): tensor([[ 1.2444e-06],\n",
      "        [ 3.6554e-07],\n",
      "        [ 2.0187e-07],\n",
      "        [ 1.9352e-07],\n",
      "        [ 1.0157e-07],\n",
      "        [ 1.4004e-07],\n",
      "        [ 3.5602e-07],\n",
      "        [-1.7915e-07],\n",
      "        [-2.1700e-07],\n",
      "        [ 5.5949e-08],\n",
      "        [ 1.7097e-07],\n",
      "        [ 2.1869e-07],\n",
      "        [ 3.6943e-07],\n",
      "        [ 3.8421e-07],\n",
      "        [ 3.5126e-07]])\n",
      "True output (denorm):     tensor([[1.0228e-07],\n",
      "        [2.7254e-07],\n",
      "        [2.4558e-07],\n",
      "        [2.2103e-07],\n",
      "        [2.1493e-07],\n",
      "        [1.9675e-07],\n",
      "        [2.4946e-07],\n",
      "        [2.1974e-07],\n",
      "        [2.1568e-07],\n",
      "        [1.9951e-07],\n",
      "        [3.6405e-07],\n",
      "        [3.4559e-07],\n",
      "        [3.4205e-07],\n",
      "        [3.2377e-07],\n",
      "        [3.1877e-07]])\n",
      "Average Validation Loss: 0.0010580702\n"
     ]
    },
    {
     "data": {
      "image/png": "[encoded data removed]",
      "text/plain": [
       "<Figure size 640x480 with 1 Axes>"
      ]
     },
     "metadata": {},
     "output_type": "display_data"
    }
   ],
   "source": [
    "model.eval()\n",
    "\n",
    "# Initialize variables to track loss\n",
    "total_val_loss = 0\n",
    "num_batches = 0\n",
    "total_lost_values = []\n",
    "\n",
    "# Define the loss function\n",
    "criterion = torch.nn.MSELoss()\n",
    "\n",
    "# Hidden state and cell state\n",
    "hidden_state, cell_state = None, None  \n",
    "\n",
    "# Disable gradient computation for validation\n",
    "with torch.no_grad():\n",
    "    for batch_idx, (inputs, targets) in enumerate(test_loader):\n",
    "\n",
    "        if hidden_state is not None:\n",
    "            hidden_state = hidden_state.detach()\n",
    "        if cell_state is not None:\n",
    "            cell_state = cell_state.detach()\n",
    "\n",
    "        # Forward pass\n",
    "        output, cell_state, hidden_state = model(inputs, cell_state, hidden_state)\n",
    "\n",
    "        # Denormalize using new min/max for target\n",
    "        output_denorm = output * (target_max - target_min) + target_min\n",
    "        target_denorm = targets * (target_max - target_min) + target_min\n",
    "\n",
    "        if batch_idx % 5 == 0:\n",
    "            print(\"Predicted output (denorm):\", output_denorm[0])\n",
    "            print(\"True output (denorm):    \", target_denorm[0])\n",
    "\n",
    "        # Compute loss using normalized values\n",
    "        loss = criterion(output, targets)\n",
    "\n",
    "        # Accumulate and average loss\n",
    "        total_val_loss += loss.item()\n",
    "        total_lost_values.append(total_val_loss / (batch_idx + 1))\n",
    "        num_batches += 1\n",
    "\n",
    "# Average loss across all batches\n",
    "avg_loss = total_val_loss / num_batches\n",
    "print(f'Average Validation Loss: {avg_loss:.10f}')\n",
    "\n",
    "# Plot the validation loss over batches\n",
    "import matplotlib.pyplot as plt\n",
    "plt.plot(range(num_batches), total_lost_values, label='Validation Loss')\n",
    "plt.xlabel('Batch')\n",
    "plt.ylabel('Loss')\n",
    "plt.title('Validation Loss Over Batches')\n",
    "plt.legend()\n",
    "plt.show()\n"
   ]
  },
  {
   "cell_type": "code",
   "execution_count": 12,
   "metadata": {},
   "outputs": [
    {
     "name": "stdout",
     "output_type": "stream",
     "text": [
      "output size torch.Size([16, 15, 1])\n",
      "targets size torch.Size([16, 15, 1])\n"
     ]
    }
   ],
   "source": [
    "print(\"output size\", output.shape)\n",
    "print(\"targets size\", targets.shape)"
   ]
  },
  {
   "cell_type": "code",
   "execution_count": 13,
   "metadata": {},
   "outputs": [
    {
     "name": "stdout",
     "output_type": "stream",
     "text": [
      "Normalized model output: tensor([[[-0.0668],\n",
      "         [-0.0823],\n",
      "         [-0.0847],\n",
      "         [-0.0850],\n",
      "         [-0.0850],\n",
      "         [-0.0850],\n",
      "         [-0.0850],\n",
      "         [-0.0850],\n",
      "         [-0.0850],\n",
      "         [-0.0850],\n",
      "         [-0.0850],\n",
      "         [-0.0850],\n",
      "         [-0.0850],\n",
      "         [-0.0850],\n",
      "         [-0.0850]]])\n",
      "Denormalized prediction: tensor([[[-1.4544e-06],\n",
      "         [-1.7929e-06],\n",
      "         [-1.8438e-06],\n",
      "         [-1.8508e-06],\n",
      "         [-1.8518e-06],\n",
      "         [-1.8519e-06],\n",
      "         [-1.8519e-06],\n",
      "         [-1.8515e-06],\n",
      "         [-1.8519e-06],\n",
      "         [-1.8519e-06],\n",
      "         [-1.8519e-06],\n",
      "         [-1.8519e-06],\n",
      "         [-1.8519e-06],\n",
      "         [-1.8519e-06],\n",
      "         [-1.8519e-06]]])\n",
      "Average Denormalized Prediction: -0.0000018208\n"
     ]
    }
   ],
   "source": [
    "# Example raw input: [seq_len, num_features] (unnormalized)\n",
    "# Use one test sequence (unnormalized)\n",
    "raw_input = X_test[0]  # shape: [15, 12] – already a tensor if you did earlier prep\n",
    "\n",
    "# Convert to numpy if it's a tensor\n",
    "raw_input_np = raw_input.numpy()\n",
    "\n",
    "# Normalize input using feature-wise min and max (excluding loss_ratio)\n",
    "normalized_input = (raw_input_np - features_min.values) / (features_max.values - features_min.values)\n",
    "normalized_input = torch.tensor(normalized_input, dtype=torch.float32).unsqueeze(0)  # [1, seq_len, num_features]\n",
    "\n",
    "# Prepare target loss_ratio min and max (use float)\n",
    "target_min = float(df['loss_ratio'].min())\n",
    "target_max = float(df['loss_ratio'].max())\n",
    "\n",
    "with torch.no_grad():\n",
    "    hidden_state, cell_state = None, None\n",
    "    output, _, _ = model(normalized_input, cell_state, hidden_state)\n",
    "\n",
    "    # Denormalize the output\n",
    "    output_denorm = output * (target_max - target_min) + target_min\n",
    "\n",
    "    print(\"Normalized model output:\", output)\n",
    "    print(\"Denormalized prediction:\", output_denorm)\n",
    "\n",
    "avg_prediction = output_denorm.mean().item()\n",
    "\n",
    "print(f\"Average Denormalized Prediction: {avg_prediction:.10f}\")\n",
    "\n"
   ]
  },
  {
   "cell_type": "code",
   "execution_count": 14,
   "metadata": {},
   "outputs": [],
   "source": [
    "def run_RenoCubic(input_30):\n",
    "    with torch.no_grad():\n",
    "        hidden_state, cell_state = None, None\n",
    "        output, _, _ = model(normalized_input, cell_state, hidden_state)\n",
    "\n",
    "        # Denormalize the output\n",
    "        output_denorm = output * (target_max - target_min) + target_min\n",
    "\n",
    "        print(\"Normalized model output:\", output)\n",
    "        print(\"Denormalized prediction:\", output_denorm)\n",
    "        avg_prediction = output_denorm.mean().item()\n",
    "        print(f\"Average Denormalized Prediction: {avg_prediction:.10f}\")\n",
    "\n",
    "\n",
    "    return avg_prediction\n",
    "\n",
    "def run_Reno(input_30):\n",
    "    with torch.no_grad():\n",
    "            hidden_state, cell_state = None, None\n",
    "\n",
    "            #Change model to renoModel\n",
    "            output, _, _ = model(normalized_input, cell_state, hidden_state)\n",
    "\n",
    "            # Denormalize the output\n",
    "            output_denorm = output * (target_max - target_min) + target_min\n",
    "\n",
    "            print(\"Normalized model output:\", output)\n",
    "            print(\"Denormalized prediction:\", output_denorm)\n",
    "            avg_prediction = output_denorm.mean().item()\n",
    "            print(f\"Average Denormalized Prediction: {avg_prediction:.10f}\")\n",
    "\n",
    "\n",
    "    return avg_prediction\n",
    "\n",
    "\n",
    "def run_Cubic(input_30):\n",
    "    with torch.no_grad():\n",
    "            hidden_state, cell_state = None, None\n",
    "            #Change model to cubicModel\n",
    "            output, _, _ = model(normalized_input, cell_state, hidden_state)\n",
    "\n",
    "            # Denormalize the output\n",
    "            output_denorm = output * (target_max - target_min) + target_min\n",
    "\n",
    "            print(\"Normalized model output:\", output)\n",
    "            print(\"Denormalized prediction:\", output_denorm)\n",
    "            avg_prediction = output_denorm.mean().item()\n",
    "            print(f\"Average Denormalized Prediction: {avg_prediction:.10f}\")\n",
    "\n",
    "\n",
    "    return avg_prediction\n",
    "\n",
    "\n",
    "def choose_model(model_input, input_30):\n",
    "    #Reno is 1, cubic is 0\n",
    "    if model_input == 1:\n",
    "        avg_RenoCubic_result = run_RenoCubic(input_30)\n",
    "        avg_Reno_result = run_Reno(input_30)\n",
    "\n",
    "        if avg_RenoCubic_result > avg_Reno_result:\n",
    "            return 1\n",
    "        else:\n",
    "            return 0\n",
    "\n",
    "    #CC is cubic\n",
    "    if model_input == 0:\n",
    "        avg_RenoCubic_result = run_RenoCubic(input_30)\n",
    "        avg_Cubic_result = run_Cubic(input_30)\n",
    "\n",
    "        if avg_RenoCubic_result > avg_Reno_result:\n",
    "            return 0\n",
    "        else:\n",
    "            return 1\n",
    "\n",
    "\n"
   ]
  },
  {
   "cell_type": "code",
   "execution_count": 17,
   "metadata": {},
   "outputs": [],
   "source": [
    "torch.save(model.state_dict(), \"RenoCubic_weights.pth\")"
   ]
  }
 ],
 "metadata": {
  "kernelspec": {
   "display_name": "Python 3",
   "language": "python",
   "name": "python3"
  },
  "language_info": {
   "codemirror_mode": {
    "name": "ipython",
    "version": 3
   },
   "file_extension": ".py",
   "mimetype": "text/x-python",
   "name": "python",
   "nbconvert_exporter": "python",
   "pygments_lexer": "ipython3",
   "version": "3.10.1"
  }
 },
 "nbformat": 4,
 "nbformat_minor": 2
}
